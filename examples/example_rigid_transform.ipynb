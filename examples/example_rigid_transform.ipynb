{
 "cells": [
  {
   "cell_type": "code",
   "execution_count": 55,
   "metadata": {},
   "outputs": [
    {
     "name": "stdout",
     "output_type": "stream",
     "text": [
      "Number of correspondences loaded =  4138\n"
     ]
    }
   ],
   "source": [
    "import numpy as np\n",
    "import matplotlib.pyplot as plt\n",
    "import cv2\n",
    "import pygcransac\n",
    "from time import time\n",
    "\n",
    "correspondences = np.loadtxt('../build/data/rigid_pose_example/rigid_pose_example_points.txt')\n",
    "gt_pose = np.loadtxt('../build/data/rigid_pose_example/rigid_pose_example_gt.txt')\n",
    "threshold = 0.03\n",
    "\n",
    "print(\"Number of correspondences loaded = \", str(len(correspondences)))"
   ]
  },
  {
   "cell_type": "code",
   "execution_count": 56,
   "metadata": {},
   "outputs": [],
   "source": [
    "def verify_pygcransac(corrs, threshold, min_iters=1000, max_iters=5000):    \n",
    "    n = len(corrs)\n",
    "    \n",
    "    threshold = 100.0\n",
    "    pose, mask = pygcransac.findRigidTransform(\n",
    "        np.ascontiguousarray(corrs), \n",
    "        probabilities = [],\n",
    "        threshold = threshold, \n",
    "        neighborhood_size = 4,\n",
    "        sampler = 1,\n",
    "        min_iters = min_iters,\n",
    "        max_iters = max_iters,\n",
    "        spatial_coherence_weight = 0.0,\n",
    "        use_space_partitioning = True,\n",
    "        neighborhood = 0,\n",
    "        conf = 0.999,\n",
    "        use_sprt = False)    \n",
    "    return pose, mask\n",
    "\n",
    "def tranform_points(corrs, T):\n",
    "    n = len(corrs)\n",
    "    points1 = np.float32([corrs[i][0:3] for i in np.arange(n)]).reshape(-1,3)\n",
    "    points2 = np.float32([corrs[i][3:6] for i in np.arange(n)]).reshape(-1,3)\n",
    "    \n",
    "    transformed_corrs = np.zeros((corrs.shape[0], 6))\n",
    "\n",
    "    for i in range(n):\n",
    "        p1 = np.append(correspondences[i][:3], 1)\n",
    "        p2 = p1.dot(T)\n",
    "        transformed_corrs[i][:3] = p2[:3]\n",
    "        transformed_corrs[i][3:] = corrs[i][3:]\n",
    "    return transformed_corrs\n",
    "    \n",
    "\n",
    "def calculate_error(gt_pose, est_pose):\n",
    "    R2R1 = np.dot(gt_pose[:3, :3].T, est_pose[:3, :3])\n",
    "    cos_angle = max(-1.0, min(1.0, 0.5 * (R2R1.trace() - 1.0)))\n",
    "    \n",
    "    err_R = np.arccos(cos_angle) * 180.0 / np.pi\n",
    "    err_t = np.linalg.norm(gt_pose[:3, 3] - est_pose[:3, 3])\n",
    "    \n",
    "    return err_R, err_t\n"
   ]
  },
  {
   "cell_type": "code",
   "execution_count": 57,
   "metadata": {},
   "outputs": [
    {
     "name": "stdout",
     "output_type": "stream",
     "text": [
      "Run-time =  0.14854717254638672  sec\n",
      "Inlier number =  4138\n",
      "Rotation error =  1.8918567448909323 °\n",
      "Translation error =  0.0861913438662492  cm\n"
     ]
    }
   ],
   "source": [
    "\n",
    "ground_truth_T = gt_pose[:4, :]\n",
    "\n",
    "# Translating the points so there are no negative coordinates.\n",
    "# This is only important if the space partitioning technique is used to\n",
    "# accelerate the robust estimation, or when the spatial coherence term is >0.\n",
    "min_coordinates = np.min(correspondences, axis=0)\n",
    "T1 = np.array([[1,0,0,0], [0,1,0,0], [0,0,1,0], [-min_coordinates[0], -min_coordinates[1], -min_coordinates[2], 1]])\n",
    "T2inv = np.array([[1,0,0,0], [0,1,0,0], [0,0,1,0], [min_coordinates[3], min_coordinates[4], min_coordinates[5], 1]])\n",
    "transformed_correspondences = correspondences - min_coordinates\n",
    "\n",
    "t = time()\n",
    "gc_T, gc_mask = verify_pygcransac(transformed_correspondences, threshold)\n",
    "if gc_T is None:\n",
    "    gc_T = np.eye(4)\n",
    "else:\n",
    "    gc_T = T1 @ gc_T @ T2inv\n",
    "    gc_T = gc_T.T\n",
    "    \n",
    "print(\"Run-time = \", time() - t, ' sec')\n",
    "\n",
    "err_R, err_t = calculate_error(ground_truth_T, gc_T)\n",
    "\n",
    "print ('Inlier number = ', np.sum(gc_mask))\n",
    "print ('Rotation error = ', err_R, '°')\n",
    "print ('Translation error = ', err_t, ' cm')"
   ]
  },
  {
   "cell_type": "code",
   "execution_count": null,
   "metadata": {},
   "outputs": [],
   "source": []
  }
 ],
 "metadata": {
  "kernelspec": {
   "display_name": "Python 3.8.12 ('homography')",
   "language": "python",
   "name": "python3"
  },
  "language_info": {
   "codemirror_mode": {
    "name": "ipython",
    "version": 3
   },
   "file_extension": ".py",
   "mimetype": "text/x-python",
   "name": "python",
   "nbconvert_exporter": "python",
   "pygments_lexer": "ipython3",
   "version": "3.8.12"
  },
  "vscode": {
   "interpreter": {
    "hash": "a2328b2900916ebe49871cf7fb418aafb5182e08877aeb0eb3e6317399373126"
   }
  }
 },
 "nbformat": 4,
 "nbformat_minor": 4
}
